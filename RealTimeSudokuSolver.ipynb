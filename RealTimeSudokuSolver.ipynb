{
 "cells": [
  {
   "cell_type": "markdown",
   "metadata": {},
   "source": [
    "# Main function to detect and solve Sudoku"
   ]
  },
  {
   "cell_type": "markdown",
   "metadata": {},
   "source": [
    "This function does following steps: \n",
    "\n",
    "1. Convert colored image to gray scale, blurring, thresholding\n",
    "2. Find contours, get biggest contour, get corners, get perspective transform.\n",
    "3. Solves the puzzle using sudokuSolver\n",
    "4. Displays the solution on image"
   ]
  },
  {
   "cell_type": "code",
   "execution_count": 13,
   "metadata": {},
   "outputs": [],
   "source": [
    "import cv2\n",
    "import numpy as np\n",
    "from scipy import ndimage\n",
    "import math\n",
    "import copy\n",
    "\n",
    "def detectAndSolveSudoku(image, model, previousFrameSudoku):\n",
    "\n",
    "    clone_image = np.copy(image)    # deep copy to use later\n",
    "\n",
    "    # Convert to a grayscale image, blur that grayscale image for easier detection and then apply adaptiveThreshold\n",
    "    \n",
    "    gray = cv2.cvtColor(image, cv2.COLOR_BGR2GRAY) # Grayscale Conversion\n",
    "    \n",
    "    blur = cv2.GaussianBlur(gray, (5,5), cv2.BORDER_CONSTANT) # Gaussian Blurring\n",
    "    \n",
    "    thresh = cv2.adaptiveThreshold(blur, 255, cv2.ADAPTIVE_THRESH_GAUSSIAN_C, cv2.THRESH_BINARY_INV, 11, 2) # Adaptive Thresholding\n",
    "\n",
    "    # Find all contours using tree retrieval mode and simple chain approxiation mode\n",
    "    contours, _ = cv2.findContours(thresh, cv2.RETR_TREE, cv2.CHAIN_APPROX_SIMPLE)\n",
    "    \n",
    "    # Extract countour with biggest area, assuming the Sudoku board is the BIGGEST contour\n",
    "    max_area = 0\n",
    "    biggest_contour = None\n",
    "    for c in contours:\n",
    "        area = cv2.contourArea(c) # Calculate area of all contours\n",
    "        if area > max_area:\n",
    "            max_area = area\n",
    "            biggest_contour = c\n",
    "\n",
    "    if biggest_contour is None:        # Return if no sudoku is detected\n",
    "        return image\n",
    "\n",
    "    # Get 4 corners of the biggest contour\n",
    "    corners = getCornersFromContours(biggest_contour, 4)\n",
    "\n",
    "    if corners is None:         # Return if no sudoku is detected\n",
    "        return image\n",
    "\n",
    "    # Now we have 4 corners, locate the top left, top right, bottom left and bottom right corners\n",
    "    \n",
    "    rect = np.zeros((4, 2), dtype = \"float32\")\n",
    "    corners = corners.reshape(4,2)\n",
    "\n",
    "    # Find top left (sum of coordinates is the smallest)\n",
    "    sum = 10000\n",
    "    index = 0\n",
    "    for i in range(4):\n",
    "        if(corners[i][0]+corners[i][1] < sum):\n",
    "            sum = corners[i][0]+corners[i][1]\n",
    "            index = i\n",
    "    rect[0] = corners[index]\n",
    "    corners = np.delete(corners, index, 0)\n",
    "\n",
    "    # Find bottom right (sum of coordinates is the biggest)\n",
    "    sum = 0\n",
    "    for i in range(3):\n",
    "        if(corners[i][0]+corners[i][1] > sum):\n",
    "            sum = corners[i][0]+corners[i][1]\n",
    "            index = i\n",
    "    rect[2] = corners[index]\n",
    "    corners = np.delete(corners, index, 0)\n",
    "\n",
    "    # Find top right \n",
    "    if(corners[0][0] > corners[1][0]):     #The point whose x-coordinate is greater will be top right, other will be bottom left\n",
    "        rect[1] = corners[0]\n",
    "        rect[3] = corners[1]\n",
    "        \n",
    "    else:\n",
    "        rect[1] = corners[1]\n",
    "        rect[3] = corners[0]\n",
    "\n",
    "    rect = rect.reshape(4,2)\n",
    "\n",
    "\n",
    "    # After having found 4 corners A B C D, check if ABCD is approximately square\n",
    "    #   A------B\n",
    "    #   |      |\n",
    "    #   |      |\n",
    "    #   D------C\n",
    "\n",
    "    A = rect[0]\n",
    "    B = rect[1]\n",
    "    C = rect[2]\n",
    "    D = rect[3]\n",
    "    \n",
    "    # 1st condition: If all 4 angles are not approximately 90 degrees (with tolerance = epsAngle), stop\n",
    "    AB = B - A      # 4 vectors AB AD BC DC\n",
    "    AD = D - A\n",
    "    BC = C - B\n",
    "    DC = C - D\n",
    "    eps_angle = 20\n",
    "    if not (checkPerpendicularity(angleBetweenVectors(AB,AD), eps_angle) and checkPerpendicularity(angleBetweenVectors(AB,BC), eps_angle)\n",
    "    and checkPerpendicularity(angleBetweenVectors(BC,DC), eps_angle) and checkPerpendicularity(angleBetweenVectors(AD,DC), eps_angle)):\n",
    "        return image\n",
    "    \n",
    "    # 2nd condition: The Lengths of AB, AD, BC, DC have to be approximately equal\n",
    "    # => Longest and shortest sides have to be approximately equal\n",
    "    eps_scale = 1.2     # Longest cannot be longer than epsScale * shortest\n",
    "    if(checkBorderSizeDifference(A, B, C, D, eps_scale)):\n",
    "        return image\n",
    "    \n",
    "    # Now we are sure ABCD correspond to 4 corners of a Sudoku board\n",
    "\n",
    "    # the width of our Sudoku board\n",
    "    (tl, tr, br, bl) = rect\n",
    "    width_A = np.sqrt(((br[0] - bl[0]) ** 2) + ((br[1] - bl[1]) ** 2))\n",
    "    width_B = np.sqrt(((tr[0] - tl[0]) ** 2) + ((tr[1] - tl[1]) ** 2))\n",
    "\n",
    "    # the height of our Sudoku board\n",
    "    height_A = np.sqrt(((tr[0] - br[0]) ** 2) + ((tr[1] - br[1]) ** 2))\n",
    "    height_B = np.sqrt(((tl[0] - bl[0]) ** 2) + ((tl[1] - bl[1]) ** 2))\n",
    "\n",
    "    # take the maximum of the width and height values to reach\n",
    "    # our final dimensions\n",
    "    max_width = max(int(width_A), int(width_B))\n",
    "    max_height = max(int(height_A), int(height_B))\n",
    "\n",
    "    # construct our destination points which will be used to\n",
    "    # map the screen to a top-down, \"birds eye\" view\n",
    "    dst = np.array([\n",
    "        [0, 0],\n",
    "        [max_width - 1, 0],\n",
    "        [max_width - 1, max_height - 1],\n",
    "        [0, max_height - 1]], dtype = \"float32\")\n",
    "\n",
    "    # calculate the perspective transform matrix and warp\n",
    "    # the perspective to grab the screen\n",
    "    perspective_transformed_matrix = cv2.getPerspectiveTransform(rect, dst)\n",
    "    warp = cv2.warpPerspective(image, perspective_transformed_matrix, (max_width, max_height))\n",
    "    orginal_warp = np.copy(warp)\n",
    "\n",
    "    # At this point, warp contains ONLY the chopped Sudoku board\n",
    "    # Do some image processing to get ready for recognizing digits\n",
    "    warp = cv2.cvtColor(warp,cv2.COLOR_BGR2GRAY)\n",
    "    warp = cv2.GaussianBlur(warp, (5,5), 0)\n",
    "    warp = cv2.adaptiveThreshold(warp, 255, 1, 1, 11, 2)\n",
    "    warp = cv2.bitwise_not(warp)\n",
    "    _, warp = cv2.threshold(warp, 150, 255, cv2.THRESH_BINARY)\n",
    "\n",
    "    # Init grid to store Sudoku Board digits\n",
    "    SIZE = 9\n",
    "    grid = []\n",
    "    for i in range(SIZE):\n",
    "        row = []\n",
    "        for j in range(SIZE):\n",
    "            row.append(0)\n",
    "        grid.append(row)\n",
    "\n",
    "    height = warp.shape[0] // 9              #Get height by dividing by 9\n",
    "    width = warp.shape[1] // 9               #Get width by dividing by 9\n",
    "\n",
    "    offset_width = math.floor(width / 10)    # Offset is used to get rid of the boundaries\n",
    "    offset_height = math.floor(height / 10)\n",
    "    \n",
    "    # Divide the Sudoku board into 9x9 square:\n",
    "    for i in range(SIZE):\n",
    "        for j in range(SIZE):\n",
    "\n",
    "            # Crop with offset (We don't want to include the boundaries)\n",
    "            crop_image = warp[height*i+offset_height:height*(i+1)-offset_height, width*j+offset_width:width*(j+1)-offset_width]        \n",
    "            \n",
    "            # There are still some boundary lines left though\n",
    "            # => Remove all black lines near the edges\n",
    "            # ratio = 0.6 => If 60% pixels are black, remove\n",
    "            # Notice as soon as we reach a line which is not a black line, the while loop stops\n",
    "            ratio = 0.6        \n",
    "            # Top\n",
    "            while np.sum(crop_image[0]) <= (1-ratio) * crop_image.shape[1] * 255:\n",
    "                crop_image = crop_image[1:]\n",
    "                \n",
    "            # Bottom\n",
    "            while np.sum(crop_image[-1]) <= (1-ratio) * crop_image.shape[1] * 255:\n",
    "                crop_image = crop_image[:-1] \n",
    "            \n",
    "            # Left\n",
    "            while np.sum(crop_image[:,0]) <= (1-ratio) * crop_image.shape[0] * 255:\n",
    "                crop_image = np.delete(crop_image, 0, 1)\n",
    "                \n",
    "            # Right\n",
    "            while np.sum(crop_image[:,-1]) <= (1-ratio) * crop_image.shape[0] * 255:\n",
    "                crop_image = np.delete(crop_image, -1, 1)\n",
    "            \n",
    "            # Take the largestConnectedComponent (The digit), and remove all noises\n",
    "            \n",
    "            # Each of the smallest square is white with black digit\n",
    "            \n",
    "            crop_image = cv2.bitwise_not(crop_image)      # Apply inversion to each smallest square i.e. black square with white digit\n",
    "            crop_image = getLargestConnectedComponent(crop_image)\n",
    "           \n",
    "            # Resize\n",
    "            digit_pic_size = 28\n",
    "            crop_image = cv2.resize(crop_image, (digit_pic_size,digit_pic_size))\n",
    "\n",
    "            # If this is a white cell, set grid[i][j] to 0 and continue on the next image:\n",
    "\n",
    "            # Criteria 1 for detecting white cell:\n",
    "            # Has too little black pixels\n",
    "            if crop_image.sum() >= digit_pic_size**2*255 - digit_pic_size * 1 * 255:\n",
    "                grid[i][j] == 0\n",
    "                continue    # Move on if we have a white cell\n",
    "\n",
    "            # Criteria 2 for detecting white cell\n",
    "            # Huge white area in the center\n",
    "            center_width = crop_image.shape[1] // 2\n",
    "            center_height = crop_image.shape[0] // 2\n",
    "            x_start = center_height // 2\n",
    "            x_end = center_height // 2 + center_height\n",
    "            y_start = center_width // 2\n",
    "            y_end = center_width // 2 + center_width\n",
    "            center_region = crop_image[x_start:x_end, y_start:y_end]\n",
    "            \n",
    "            if center_region.sum() >= center_width * center_height * 255 - 255:\n",
    "                grid[i][j] = 0\n",
    "                continue    # Move on if we have a white cell\n",
    "            \n",
    "            # Now we are quite certain that this crop_image contains a number\n",
    "\n",
    "            # Store the number of rows and cols\n",
    "            rows, cols = crop_image.shape\n",
    "\n",
    "            # Apply Binary Threshold to make digits more clear\n",
    "            _, crop_image = cv2.threshold(crop_image, 200, 255, cv2.THRESH_BINARY) \n",
    "            crop_image = crop_image.astype(np.uint8)\n",
    "\n",
    "            # Centralize the image according to center of mass\n",
    "            crop_image = cv2.bitwise_not(crop_image)\n",
    "            shift_x, shift_y = getBestShift(crop_image)\n",
    "            shifted = shift(crop_image,shift_x,shift_y)\n",
    "            crop_image = shifted\n",
    "\n",
    "            crop_image = cv2.bitwise_not(crop_image)\n",
    "            \n",
    "            # Up to this point crop_image is good and clean!\n",
    "\n",
    "            # Convert to proper format to recognize\n",
    "            crop_image = prepare(crop_image)\n",
    "\n",
    "            # Recognize digits\n",
    "            prediction = model.predict([crop_image]) # model is trained by digitRecognition.py\n",
    "            grid[i][j] = np.argmax(prediction[0]) + 1 # 1 2 3 4 5 6 7 8 9 starts from 0, so add 1\n",
    "\n",
    "    userUnsolvedGrid = copy.deepcopy(grid)\n",
    "\n",
    "    # Solve sudoku after we have recognizing each digits of the Sudoku board:\n",
    "\n",
    "    # If this is the same board as last camera frame\n",
    "    # Then, print the same solution. No need for solving again\n",
    "    \n",
    "    if (not previousFrameSudoku is None) and checkMatrixEquality(previousFrameSudoku, grid, 9, 9):\n",
    "        if(sudokuSolver.allPositionsFilled(grid)):\n",
    "            orginal_warp = displayImageSolution(orginal_warp, previousFrameSudoku, userUnsolvedGrid)\n",
    "    \n",
    "    # If this is a different board\n",
    "    else:\n",
    "        sudokuSolver.solveSudoku(grid) # Solve it\n",
    "        if(sudokuSolver.allPositionsFilled(grid)): # If we got a solution\n",
    "            orginal_warp = displayImageSolution(orginal_warp, grid, userUnsolvedGrid)\n",
    "            previousFrameSudoku = copy.deepcopy(grid)      # Keep the old solution\n",
    "\n",
    "    # Apply inverse perspective transform and paste the solutions on top of the orginal image\n",
    "    result_sudoku = cv2.warpPerspective(orginal_warp, perspective_transformed_matrix, (image.shape[1], image.shape[0])\n",
    "                                        , flags=cv2.WARP_INVERSE_MAP)\n",
    "    result = np.where(result_sudoku.sum(axis=-1,keepdims=True)!=0, result_sudoku, image)\n",
    "\n",
    "    return result"
   ]
  },
  {
   "cell_type": "markdown",
   "metadata": {},
   "source": [
    "## Function to Sudoku Board Corners"
   ]
  },
  {
   "cell_type": "markdown",
   "metadata": {},
   "source": [
    "This function will get the 4 corners from largest contour. These 4 corners will be the corners of the Sudoku board."
   ]
  },
  {
   "cell_type": "code",
   "execution_count": 14,
   "metadata": {},
   "outputs": [],
   "source": [
    "def getCornersFromContours(contours, corner_amount=4, max_iter=200):\n",
    "\n",
    "    coefficient = 1\n",
    "    while max_iter > 0 and coefficient >= 0:\n",
    "        max_iter = max_iter - 1\n",
    "\n",
    "        epsilon = coefficient * cv2.arcLength(contours, True)\n",
    "\n",
    "        poly_approx = cv2.approxPolyDP(contours, epsilon, True)\n",
    "        hull = cv2.convexHull(poly_approx)\n",
    "        if len(hull) == corner_amount:         #If no. of corners is 4 then return convex hull\n",
    "            return hull\n",
    "        else:\n",
    "            if len(hull) > corner_amount:      #If no. of corners is greater than 4 then increment epsilon\n",
    "                coefficient += .01\n",
    "            else:\n",
    "                coefficient -= .01             #If no. of corners is less than 4 then decrement epsilon\n",
    "                \n",
    "    return None                                #If no. of corners is not equal to 4 then return none"
   ]
  },
  {
   "cell_type": "markdown",
   "metadata": {},
   "source": [
    "## Function to check perpendicularity of lines"
   ]
  },
  {
   "cell_type": "markdown",
   "metadata": {},
   "source": [
    "This function is used to detect whether the contour is a Sudoku board or not. All 4 angles has to be approximately 90 degrees with tolerance epsilon."
   ]
  },
  {
   "cell_type": "code",
   "execution_count": 15,
   "metadata": {},
   "outputs": [],
   "source": [
    "def checkPerpendicularity(angle, epsilon):\n",
    "    return abs(angle - 90) < epsilon"
   ]
  },
  {
   "cell_type": "markdown",
   "metadata": {},
   "source": [
    "## Function to get angle between lines"
   ]
  },
  {
   "cell_type": "markdown",
   "metadata": {},
   "source": [
    "This function calculates the angle by using inverse cosine on the dot product of the unit vectors. It returns the angle between the two vectors in degrees"
   ]
  },
  {
   "cell_type": "code",
   "execution_count": 16,
   "metadata": {},
   "outputs": [],
   "source": [
    "def angleBetweenVectors(vector_1, vector_2):\n",
    "    unit_vector_1 = vector_1 / np.linalg.norm(vector_1)\n",
    "    unit_vector2 = vector_2 / np.linalg.norm(vector_2)\n",
    "    dot_droduct = np.dot(unit_vector_1, unit_vector2)\n",
    "    angle = np.arccos(dot_droduct)\n",
    "    return angle * 57.2958  # Convert from radian to degree"
   ]
  },
  {
   "cell_type": "markdown",
   "metadata": {},
   "source": [
    "## Function to check border size difference"
   ]
  },
  {
   "cell_type": "markdown",
   "metadata": {},
   "source": [
    "This function is used to verfiy that the length of board sides should not be too different(as Sudoku board is square).\n",
    "If the longest size is greater than the (shortest size * eps_scale), then return False, else return True"
   ]
  },
  {
   "cell_type": "code",
   "execution_count": 17,
   "metadata": {},
   "outputs": [],
   "source": [
    "def checkBorderSizeDifference(A, B, C, D, eps_scale):\n",
    "    AB = math.sqrt((A[0]-B[0])**2 + (A[1]-B[1])**2)\n",
    "    AD = math.sqrt((A[0]-D[0])**2 + (A[1]-D[1])**2)\n",
    "    BC = math.sqrt((B[0]-C[0])**2 + (B[1]-C[1])**2)\n",
    "    CD = math.sqrt((C[0]-D[0])**2 + (C[1]-D[1])**2)\n",
    "    shortest = min(AB, AD, BC, CD)\n",
    "    longest = max(AB, AD, BC, CD)\n",
    "    return longest > eps_scale * shortest"
   ]
  },
  {
   "cell_type": "markdown",
   "metadata": {},
   "source": [
    "## Function to show image"
   ]
  },
  {
   "cell_type": "markdown",
   "metadata": {},
   "source": [
    "This function is used to resize and display the image on screen"
   ]
  },
  {
   "cell_type": "code",
   "execution_count": 18,
   "metadata": {},
   "outputs": [],
   "source": [
    "def showImage(img, name, width, height):\n",
    "    new_image = np.copy(img)\n",
    "    new_image = cv2.resize(new_image, (width, height))\n",
    "    cv2.imshow(name, new_image)"
   ]
  },
  {
   "cell_type": "markdown",
   "metadata": {},
   "source": [
    "## Function to get largest connected component"
   ]
  },
  {
   "cell_type": "markdown",
   "metadata": {},
   "source": [
    "This function is used for seperating the digit from noise in the croped image\n",
    "The cropped image are all the 9x9 small square image in the Sudoku Board"
   ]
  },
  {
   "cell_type": "code",
   "execution_count": 19,
   "metadata": {},
   "outputs": [],
   "source": [
    "def getLargestConnectedComponent(image):\n",
    "\n",
    "    image = image.astype('uint8')\n",
    "    nb_components, output, stats, centroids = cv2.connectedComponentsWithStats(image, connectivity=8)\n",
    "    sizes = stats[:, -1]\n",
    "\n",
    "    # If no. of components is less than/equal to one, then image does not have any digit\n",
    "    # In that case, then return blank image\n",
    "    if(len(sizes) <= 1):\n",
    "        blank_image = np.zeros(image.shape)\n",
    "        blank_image.fill(255)\n",
    "        return blank_image\n",
    "\n",
    "    max_label = 1\n",
    "    # Start from component 1 (not 0) because we want to leave out the background\n",
    "    max_size = sizes[1]     \n",
    "\n",
    "    for i in range(2, nb_components):\n",
    "        if sizes[i] > max_size:\n",
    "            max_label = i\n",
    "            max_size = sizes[i]\n",
    "\n",
    "    img2 = np.zeros(output.shape)\n",
    "    img2.fill(255)\n",
    "    img2[output == max_label] = 0  #Set pixels of digits to zero\n",
    "    return img2"
   ]
  },
  {
   "cell_type": "markdown",
   "metadata": {},
   "source": [
    "## Function to calculate the COM shift"
   ]
  },
  {
   "cell_type": "markdown",
   "metadata": {},
   "source": [
    "This function is used to centralize the image using its center of mass"
   ]
  },
  {
   "cell_type": "code",
   "execution_count": 20,
   "metadata": {},
   "outputs": [],
   "source": [
    "def getBestShift(img):\n",
    "    cy, cx = ndimage.measurements.center_of_mass(img)\n",
    "    rows, cols = img.shape\n",
    "    shiftx = np.round(cols/2.0-cx).astype(int)\n",
    "    shifty = np.round(rows/2.0-cy).astype(int)\n",
    "    return shiftx, shifty"
   ]
  },
  {
   "cell_type": "markdown",
   "metadata": {},
   "source": [
    "## Function to check matrix equality"
   ]
  },
  {
   "cell_type": "markdown",
   "metadata": {},
   "source": [
    "This function compares every single elements of  the two matrices and return True if all corresponding entries are equal"
   ]
  },
  {
   "cell_type": "code",
   "execution_count": 21,
   "metadata": {},
   "outputs": [],
   "source": [
    "def checkMatrixEquality(matrix_1, matrix_2, row, col):\n",
    "    for i in range(row):\n",
    "        for j in range(col):\n",
    "            if matrix_1[i][j] != matrix_2[i][j]:\n",
    "                return False\n",
    "    return True"
   ]
  },
  {
   "cell_type": "markdown",
   "metadata": {},
   "source": [
    "## Function to prepare and normalize"
   ]
  },
  {
   "cell_type": "markdown",
   "metadata": {},
   "source": [
    "This function is used to prepare and normalize the image to get ready for digit recognition"
   ]
  },
  {
   "cell_type": "code",
   "execution_count": 22,
   "metadata": {},
   "outputs": [],
   "source": [
    "def prepare(img_array):\n",
    "    new_array = img_array.reshape(-1, 28, 28, 1)\n",
    "    new_array = new_array.astype('float32')\n",
    "    new_array /= 255\n",
    "    return new_array"
   ]
  },
  {
   "cell_type": "markdown",
   "metadata": {},
   "source": [
    "## Function to shift image"
   ]
  },
  {
   "cell_type": "markdown",
   "metadata": {},
   "source": [
    "This function is used to shift the image using transformation matrix. "
   ]
  },
  {
   "cell_type": "code",
   "execution_count": 23,
   "metadata": {},
   "outputs": [],
   "source": [
    "def shift(img,sx,sy):\n",
    "    rows,cols = img.shape\n",
    "    M = np.float32([[1,0,sx],[0,1,sy]])      # The shift transformation matrix for geometric translation\n",
    "    shifted = cv2.warpAffine(img,M,(cols,rows))\n",
    "    return shifted"
   ]
  },
  {
   "cell_type": "markdown",
   "metadata": {},
   "source": [
    "## Function to display solution on image"
   ]
  },
  {
   "cell_type": "markdown",
   "metadata": {},
   "source": [
    "This function is used to write solution on image in real time"
   ]
  },
  {
   "cell_type": "code",
   "execution_count": 24,
   "metadata": {},
   "outputs": [],
   "source": [
    "def displayImageSolution(image, grid, userUnsolvedGrid):\n",
    "    # Write grid on image\n",
    "    SIZE = 9\n",
    "    width = image.shape[1] // 9\n",
    "    height = image.shape[0] // 9\n",
    "    for i in range(SIZE):\n",
    "        for j in range(SIZE):\n",
    "            if(userUnsolvedGrid[i][j] != 0):    # If user fill this cell\n",
    "                continue                # Move on\n",
    "            text = str(grid[i][j])\n",
    "            off_set_x = width // 15\n",
    "            off_set_y = height // 15\n",
    "            font = cv2.FONT_HERSHEY_SIMPLEX\n",
    "            (text_height, text_width), baseLine = cv2.getTextSize(text, font, fontScale=1, thickness=2)\n",
    "        \n",
    "            font_scale = 0.6 * min(width, height) / max(text_height, text_width)\n",
    "            text_height *= font_scale\n",
    "            text_width *= font_scale\n",
    "            bottom_left_corner_x = width*j + math.floor((width - text_width) / 2) + off_set_x\n",
    "            bottom_left_corner_y = height*(i+1) - math.floor((height - text_height) / 2) + off_set_y\n",
    "            image = cv2.putText(image, text, (bottom_left_corner_x, bottom_left_corner_y), \n",
    "                                                  font, font_scale, (51,51,0), thickness=2, lineType=cv2.LINE_AA)\n",
    "    return image"
   ]
  }
 ],
 "metadata": {
  "kernelspec": {
   "display_name": "Python 3 (ipykernel)",
   "language": "python",
   "name": "python3"
  },
  "language_info": {
   "codemirror_mode": {
    "name": "ipython",
    "version": 3
   },
   "file_extension": ".py",
   "mimetype": "text/x-python",
   "name": "python",
   "nbconvert_exporter": "python",
   "pygments_lexer": "ipython3",
   "version": "3.9.7"
  }
 },
 "nbformat": 4,
 "nbformat_minor": 2
}
