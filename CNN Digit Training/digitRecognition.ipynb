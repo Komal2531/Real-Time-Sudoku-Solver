{
 "cells": [
  {
   "cell_type": "markdown",
   "id": "6e594a6b",
   "metadata": {},
   "source": [
    "#### A CNN model is created and trained on the char54k dataset to identify digits 1 to 9"
   ]
  },
  {
   "cell_type": "markdown",
   "id": "a2a45d00",
   "metadata": {},
   "source": [
    "## Function to calculate the COM shift"
   ]
  },
  {
   "cell_type": "markdown",
   "id": "e687b0f8",
   "metadata": {},
   "source": [
    "This function is used to centralize the image using its center of mass"
   ]
  },
  {
   "cell_type": "code",
   "execution_count": 24,
   "id": "b0e1b629",
   "metadata": {},
   "outputs": [],
   "source": [
    "def getBestShift(img):\n",
    "    cy,cx = ndimage.measurements.center_of_mass(img)\n",
    "    rows,cols = img.shape\n",
    "    shiftx = numpy.round(cols/2.0-cx).astype(int)\n",
    "    shifty = numpy.round(rows/2.0-cy).astype(int)\n",
    "    return shiftx,shifty"
   ]
  },
  {
   "cell_type": "markdown",
   "id": "528f193b",
   "metadata": {},
   "source": [
    "## Function to create training data"
   ]
  },
  {
   "cell_type": "markdown",
   "id": "c175eb33",
   "metadata": {},
   "source": [
    "This function is used to read image traning data from the folders named 1, 2,..., 9 in the DigitImages directory"
   ]
  },
  {
   "cell_type": "code",
   "execution_count": 25,
   "id": "40d099b3",
   "metadata": {},
   "outputs": [],
   "source": [
    "def createTrainingData():\n",
    "    for category in CATEGORIES:\n",
    "        path = os.path.join(DATADIR, category)\n",
    "        class_num = CATEGORIES.index(category)\n",
    "        for img in os.listdir(path):\n",
    "            img_array = cv2.imread(os.path.join(path,img), cv2.IMREAD_GRAYSCALE)\n",
    "            new_array = cv2.resize(img_array, (img_rows, img_cols))\n",
    "            new_array = shiftCenterOfMass(new_array)\n",
    "            training_data.append([new_array, class_num])"
   ]
  },
  {
   "cell_type": "markdown",
   "id": "f2b3af2f",
   "metadata": {},
   "source": [
    "## Function to centralize image"
   ]
  },
  {
   "cell_type": "markdown",
   "id": "785bf609",
   "metadata": {},
   "source": [
    "This function will centralize the image according to its center of mass.Same has been implemented in sudokuSolver.\n",
    "Without this step, the accuracy drops from nearly 100% to 70-80%"
   ]
  },
  {
   "cell_type": "code",
   "execution_count": 26,
   "id": "ce8af4c6",
   "metadata": {},
   "outputs": [],
   "source": [
    "def shiftCenterOfMass(img):\n",
    "    img = cv2.bitwise_not(img)\n",
    "\n",
    "    # Centralize the image according to center of mass\n",
    "    shiftx,shifty = getBestShift(img)\n",
    "    shifted = shift(img,shiftx,shifty)\n",
    "    img = shifted\n",
    "\n",
    "    img = cv2.bitwise_not(img)\n",
    "    return img"
   ]
  },
  {
   "cell_type": "markdown",
   "id": "9d76cc3e",
   "metadata": {},
   "source": [
    "## Function to shift image"
   ]
  },
  {
   "cell_type": "markdown",
   "id": "959ae047",
   "metadata": {},
   "source": [
    "This function is used to centralize the image according to its center of mass"
   ]
  },
  {
   "cell_type": "code",
   "execution_count": 27,
   "id": "ef4076c4",
   "metadata": {},
   "outputs": [],
   "source": [
    "def shift(img,sx,sy):\n",
    "    rows,cols = img.shape\n",
    "    M = numpy.float32([[1,0,sx],[0,1,sy]])\n",
    "    shifted = cv2.warpAffine(img,M,(cols,rows))\n",
    "    return shifted"
   ]
  },
  {
   "cell_type": "markdown",
   "id": "d91f3b0a",
   "metadata": {},
   "source": [
    "## Import Required Libraries"
   ]
  },
  {
   "cell_type": "code",
   "execution_count": 28,
   "id": "44da0dd2",
   "metadata": {},
   "outputs": [],
   "source": [
    "#Neural Network modules\n",
    "import tensorflow as tf\n",
    "from tensorflow.keras.models import Sequential\n",
    "from tensorflow.keras.layers import Dense, Dropout, Flatten\n",
    "from tensorflow.keras.layers import Conv2D, MaxPooling2D\n",
    "from tensorflow.keras.utils import to_categorical\n",
    "\n",
    "\n",
    "import numpy                    #Module for working with arrays\n",
    "import os                       #Standard module for interacting with OS\n",
    "import random                   #For shuffling images\n",
    "import cv2                      #Standard module in solving computer visions\n",
    "from scipy import ndimage       #Library for multidimensional image processing"
   ]
  },
  {
   "cell_type": "markdown",
   "id": "477943df",
   "metadata": {},
   "source": [
    "## Create and build CNN"
   ]
  },
  {
   "cell_type": "code",
   "execution_count": 29,
   "id": "bb14b214",
   "metadata": {
    "scrolled": false
   },
   "outputs": [
    {
     "name": "stdout",
     "output_type": "stream",
     "text": [
      "Epoch 1/45\n",
      "4/4 [==============================] - 1s 141ms/step - loss: 2.2452 - accuracy: 0.1282 - val_loss: 2.1820 - val_accuracy: 0.1837\n",
      "Epoch 2/45\n",
      "4/4 [==============================] - 0s 100ms/step - loss: 2.1813 - accuracy: 0.1615 - val_loss: 2.1702 - val_accuracy: 0.2041\n",
      "Epoch 3/45\n",
      "4/4 [==============================] - 0s 99ms/step - loss: 2.1525 - accuracy: 0.1667 - val_loss: 2.1424 - val_accuracy: 0.2959\n",
      "Epoch 4/45\n",
      "4/4 [==============================] - 0s 108ms/step - loss: 2.1315 - accuracy: 0.1949 - val_loss: 2.1048 - val_accuracy: 0.1837\n",
      "Epoch 5/45\n",
      "4/4 [==============================] - 0s 106ms/step - loss: 2.0856 - accuracy: 0.2436 - val_loss: 2.0663 - val_accuracy: 0.2653\n",
      "Epoch 6/45\n",
      "4/4 [==============================] - 0s 101ms/step - loss: 2.0256 - accuracy: 0.2769 - val_loss: 1.9947 - val_accuracy: 0.4082\n",
      "Epoch 7/45\n",
      "4/4 [==============================] - 0s 101ms/step - loss: 1.9213 - accuracy: 0.3410 - val_loss: 1.9295 - val_accuracy: 0.3469\n",
      "Epoch 8/45\n",
      "4/4 [==============================] - 0s 112ms/step - loss: 1.8914 - accuracy: 0.3590 - val_loss: 1.8509 - val_accuracy: 0.4490\n",
      "Epoch 9/45\n",
      "4/4 [==============================] - 0s 102ms/step - loss: 1.8091 - accuracy: 0.3949 - val_loss: 1.7807 - val_accuracy: 0.5000\n",
      "Epoch 10/45\n",
      "4/4 [==============================] - 0s 100ms/step - loss: 1.7141 - accuracy: 0.4949 - val_loss: 1.7413 - val_accuracy: 0.5000\n",
      "Epoch 11/45\n",
      "4/4 [==============================] - 0s 106ms/step - loss: 1.6014 - accuracy: 0.5128 - val_loss: 1.6088 - val_accuracy: 0.5714\n",
      "Epoch 12/45\n",
      "4/4 [==============================] - 0s 101ms/step - loss: 1.5092 - accuracy: 0.5385 - val_loss: 1.5377 - val_accuracy: 0.5918\n",
      "Epoch 13/45\n",
      "4/4 [==============================] - 0s 101ms/step - loss: 1.3821 - accuracy: 0.5923 - val_loss: 1.5260 - val_accuracy: 0.5510\n",
      "Epoch 14/45\n",
      "4/4 [==============================] - 0s 101ms/step - loss: 1.2916 - accuracy: 0.6615 - val_loss: 1.3950 - val_accuracy: 0.6429\n",
      "Epoch 15/45\n",
      "4/4 [==============================] - 0s 103ms/step - loss: 1.1854 - accuracy: 0.6692 - val_loss: 1.2985 - val_accuracy: 0.6122\n",
      "Epoch 16/45\n",
      "4/4 [==============================] - 0s 103ms/step - loss: 1.0736 - accuracy: 0.6846 - val_loss: 1.2017 - val_accuracy: 0.6633\n",
      "Epoch 17/45\n",
      "4/4 [==============================] - 0s 100ms/step - loss: 1.0028 - accuracy: 0.6795 - val_loss: 1.0862 - val_accuracy: 0.7449\n",
      "Epoch 18/45\n",
      "4/4 [==============================] - 0s 120ms/step - loss: 0.8711 - accuracy: 0.7308 - val_loss: 1.0453 - val_accuracy: 0.7245\n",
      "Epoch 19/45\n",
      "4/4 [==============================] - 0s 112ms/step - loss: 0.8087 - accuracy: 0.7641 - val_loss: 1.0112 - val_accuracy: 0.7245\n",
      "Epoch 20/45\n",
      "4/4 [==============================] - 0s 111ms/step - loss: 0.6966 - accuracy: 0.8154 - val_loss: 0.9472 - val_accuracy: 0.7551\n",
      "Epoch 21/45\n",
      "4/4 [==============================] - 0s 111ms/step - loss: 0.6601 - accuracy: 0.7923 - val_loss: 0.8770 - val_accuracy: 0.7857\n",
      "Epoch 22/45\n",
      "4/4 [==============================] - 0s 108ms/step - loss: 0.6074 - accuracy: 0.8154 - val_loss: 0.8741 - val_accuracy: 0.7653\n",
      "Epoch 23/45\n",
      "4/4 [==============================] - 0s 111ms/step - loss: 0.5762 - accuracy: 0.8333 - val_loss: 0.8647 - val_accuracy: 0.7653\n",
      "Epoch 24/45\n",
      "4/4 [==============================] - 0s 101ms/step - loss: 0.5538 - accuracy: 0.8462 - val_loss: 0.8637 - val_accuracy: 0.7551\n",
      "Epoch 25/45\n",
      "4/4 [==============================] - 0s 101ms/step - loss: 0.5062 - accuracy: 0.8513 - val_loss: 0.8475 - val_accuracy: 0.7347\n",
      "Epoch 26/45\n",
      "4/4 [==============================] - 0s 110ms/step - loss: 0.4783 - accuracy: 0.8462 - val_loss: 0.8286 - val_accuracy: 0.7449\n",
      "Epoch 27/45\n",
      "4/4 [==============================] - 0s 104ms/step - loss: 0.4342 - accuracy: 0.8615 - val_loss: 0.7612 - val_accuracy: 0.7959\n",
      "Epoch 28/45\n",
      "4/4 [==============================] - 0s 101ms/step - loss: 0.3643 - accuracy: 0.9128 - val_loss: 0.7572 - val_accuracy: 0.8061\n",
      "Epoch 29/45\n",
      "4/4 [==============================] - 0s 101ms/step - loss: 0.3599 - accuracy: 0.9051 - val_loss: 0.6900 - val_accuracy: 0.8061\n",
      "Epoch 30/45\n",
      "4/4 [==============================] - 0s 103ms/step - loss: 0.3473 - accuracy: 0.8974 - val_loss: 0.7055 - val_accuracy: 0.7959\n",
      "Epoch 31/45\n",
      "4/4 [==============================] - 0s 102ms/step - loss: 0.2990 - accuracy: 0.9179 - val_loss: 0.7907 - val_accuracy: 0.8061\n",
      "Epoch 32/45\n",
      "4/4 [==============================] - 0s 100ms/step - loss: 0.3360 - accuracy: 0.8923 - val_loss: 0.6685 - val_accuracy: 0.8469\n",
      "Epoch 33/45\n",
      "4/4 [==============================] - 0s 99ms/step - loss: 0.2445 - accuracy: 0.9487 - val_loss: 0.6473 - val_accuracy: 0.8367\n",
      "Epoch 34/45\n",
      "4/4 [==============================] - 0s 101ms/step - loss: 0.2351 - accuracy: 0.9513 - val_loss: 0.7066 - val_accuracy: 0.8571\n",
      "Epoch 35/45\n",
      "4/4 [==============================] - 0s 108ms/step - loss: 0.2414 - accuracy: 0.9308 - val_loss: 0.6955 - val_accuracy: 0.8163\n",
      "Epoch 36/45\n",
      "4/4 [==============================] - 0s 101ms/step - loss: 0.2140 - accuracy: 0.9436 - val_loss: 0.6692 - val_accuracy: 0.8469\n",
      "Epoch 37/45\n",
      "4/4 [==============================] - 0s 100ms/step - loss: 0.1998 - accuracy: 0.9436 - val_loss: 0.6903 - val_accuracy: 0.8163\n",
      "Epoch 38/45\n",
      "4/4 [==============================] - 0s 102ms/step - loss: 0.2034 - accuracy: 0.9385 - val_loss: 0.7964 - val_accuracy: 0.7755\n",
      "Epoch 39/45\n",
      "4/4 [==============================] - 0s 105ms/step - loss: 0.2058 - accuracy: 0.9359 - val_loss: 0.6993 - val_accuracy: 0.7959\n",
      "Epoch 40/45\n",
      "4/4 [==============================] - 0s 109ms/step - loss: 0.2101 - accuracy: 0.9410 - val_loss: 0.6376 - val_accuracy: 0.8367\n",
      "Epoch 41/45\n",
      "4/4 [==============================] - 0s 102ms/step - loss: 0.2534 - accuracy: 0.9154 - val_loss: 0.6173 - val_accuracy: 0.8265\n",
      "Epoch 42/45\n",
      "4/4 [==============================] - 0s 105ms/step - loss: 0.1865 - accuracy: 0.9615 - val_loss: 0.6329 - val_accuracy: 0.8469\n",
      "Epoch 43/45\n",
      "4/4 [==============================] - 0s 110ms/step - loss: 0.1619 - accuracy: 0.9641 - val_loss: 0.6535 - val_accuracy: 0.8265\n",
      "Epoch 44/45\n",
      "4/4 [==============================] - 0s 100ms/step - loss: 0.1649 - accuracy: 0.9462 - val_loss: 0.6493 - val_accuracy: 0.8265\n",
      "Epoch 45/45\n",
      "4/4 [==============================] - 0s 109ms/step - loss: 0.1445 - accuracy: 0.9667 - val_loss: 0.6171 - val_accuracy: 0.8469\n",
      "Test loss: 0.6170573234558105\n",
      "Test accuracy: 0.8469387888908386\n"
     ]
    }
   ],
   "source": [
    "batch_size = 128\n",
    "num_classes = 9\n",
    "epochs = 45\n",
    "\n",
    "# input image dimensions\n",
    "img_rows, img_cols = 28, 28\n",
    "\n",
    "DATADIR = \"DigitImages\"\n",
    "CATEGORIES = [\"1\",\"2\",\"3\",\"4\",\"5\",\"6\",\"7\",\"8\",\"9\"]\n",
    "\n",
    "training_data = []\n",
    "\n",
    "createTrainingData()\n",
    "\n",
    "# Mix data up\n",
    "random.shuffle(training_data)\n",
    "\n",
    "# Split 80-20\n",
    "x_train = []\n",
    "y_train = []\n",
    "x_test = []\n",
    "y_test = []\n",
    "for i in range(len(training_data)*8//10):\n",
    "    x_train.append(training_data[i][0])\n",
    "    y_train.append(training_data[i][1])\n",
    "for i in range(len(training_data)*8//10,len(training_data)):\n",
    "    x_test.append(training_data[i][0])\n",
    "    y_test.append(training_data[i][1])\n",
    "\n",
    "# Reshape\n",
    "x_train = numpy.array(x_train)\n",
    "x_train = x_train.reshape(x_train.shape[0], img_rows, img_cols, 1)\n",
    "x_test = numpy.array(x_test)\n",
    "x_test = x_test.reshape(x_test.shape[0], img_rows, img_cols, 1)\n",
    "input_shape = (img_rows, img_cols, 1)\n",
    "\n",
    "x_train = x_train.astype('float32')\n",
    "x_test = x_test.astype('float32')\n",
    "\n",
    "# Normalize the data\n",
    "x_train /= 255\n",
    "x_test /= 255\n",
    "\n",
    "# convert class vectors to binary class matrices\n",
    "y_train = to_categorical(y_train, num_classes)\n",
    "y_test = to_categorical(y_test, num_classes)\n",
    "\n",
    "model = Sequential()\n",
    "model.add(Conv2D(32, kernel_size=(3, 3),activation='relu',input_shape=input_shape))\n",
    "model.add(Conv2D(64, (3, 3), activation='relu'))\n",
    "model.add(MaxPooling2D(pool_size=(2, 2)))\n",
    "model.add(Dropout(0.25))\n",
    "model.add(Flatten())\n",
    "model.add(Dense(128, activation='relu'))\n",
    "model.add(Dropout(0.5))\n",
    "model.add(Dense(num_classes, activation='softmax'))\n",
    "\n",
    "model.compile(loss=tf.keras.losses.categorical_crossentropy,optimizer=\"Adam\",metrics=['accuracy'])\n",
    "\n",
    "model.fit(x_train, y_train,batch_size=batch_size,epochs=epochs,verbose=1,validation_data=(x_test, y_test))\n",
    "\n",
    "score = model.evaluate(x_test, y_test, verbose=0)\n",
    "\n",
    "print('Test loss:', score[0])\n",
    "print('Test accuracy:', score[1])\n",
    "\n",
    "model.save_weights('digitRecognition.h5')"
   ]
  }
 ],
 "metadata": {
  "kernelspec": {
   "display_name": "Python 3 (ipykernel)",
   "language": "python",
   "name": "python3"
  },
  "language_info": {
   "codemirror_mode": {
    "name": "ipython",
    "version": 3
   },
   "file_extension": ".py",
   "mimetype": "text/x-python",
   "name": "python",
   "nbconvert_exporter": "python",
   "pygments_lexer": "ipython3",
   "version": "3.9.7"
  }
 },
 "nbformat": 4,
 "nbformat_minor": 5
}
